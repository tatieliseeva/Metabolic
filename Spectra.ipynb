{
 "cells": [
  {
   "cell_type": "markdown",
   "metadata": {},
   "source": [
    "# NMR spectra investigation"
   ]
  },
  {
   "cell_type": "markdown",
   "metadata": {},
   "source": [
    "In this document presented an investigation of four classes of multi-component signal with chemical shift.\n",
    "\n",
    "The first aim of this investigation is to see if unsupervised clusteristion can present convincing results.\n",
    "Second - if it is possible to set up a NN-based signal classifier."
   ]
  },
  {
   "cell_type": "markdown",
   "metadata": {},
   "source": [
    "## 1. Data overview"
   ]
  },
  {
   "cell_type": "markdown",
   "metadata": {},
   "source": [
    "The disposable dataset has 59 samples belonging to 4 categories: 'Pre'(19 samples), 'W2'(14 samples), 'W8'(13 samples), 'W6'(13 samples). \n",
    "![](whole_dataset.png)\n",
    "<text><center>Pic.1</center></text>"
   ]
  },
  {
   "cell_type": "markdown",
   "metadata": {},
   "source": [
    "As seen on the Pic.1, there is no clear pattern for any of signal types. Pic.2 and Pic.3 show all the signal groups plotted separated and and a random example of each type of signal respectively.\n",
    "<center>All signals</center> | <center>Signals plotted by class</center>\n",
    "- | - \n",
    "![alt](all_signals.png) | ![alt](all_signals_examples.png)\n",
    "<center>Pic.2</center> | <center>Pic.3</center>"
   ]
  },
  {
   "cell_type": "markdown",
   "metadata": {},
   "source": [
    "As seen, there is no obvious clear pattern which allows visually discern the signals and define which class they belonging to."
   ]
  },
  {
   "cell_type": "markdown",
   "metadata": {},
   "source": [
    "## 2. Clusterisation"
   ]
  },
  {
   "cell_type": "markdown",
   "metadata": {},
   "source": [
    "### 2.1 PCA\n",
    "PCA was the first unsuperwised clusterisation method, apllied to the dataset:"
   ]
  },
  {
   "cell_type": "markdown",
   "metadata": {},
   "source": [
    " <center>All signals</center>| <center>Signals plotted by class</center>\n",
    "- | - \n",
    "![alt](pca_y.png) | ![alt](pca_all_2d.png)\n",
    "\n",
    " <center>All signals - scaled</center>| <center>Signals plotted by class - scaled</center>\n",
    "- | - \n",
    "![alt](pca_y_scalled.png) | ![alt](pca_all_2d_scalled.png)\n",
    "\n",
    "<center>All signals - normalized</center>| <center>Signals plotted by class - normalized</center>\n",
    "- | - \n",
    "![alt](pca_all_2d_norm.png) | ![alt](pca_y_norm.png)\n",
    "<center>Pic.4</center> | <center>Pic.5</center>"
   ]
  },
  {
   "cell_type": "markdown",
   "metadata": {},
   "source": [
    "Only the class \"Pre\" shows a clear pattern in PCA. For the other three is impossible to define affiliation to any of other classes with accetable error rate."
   ]
  },
  {
   "cell_type": "markdown",
   "metadata": {},
   "source": [
    "### 2.2 K-Means Neighbours"
   ]
  },
  {
   "cell_type": "markdown",
   "metadata": {},
   "source": [
    "K-Mean neighbours has neither shown satisfied results (Pic.6 and Pic.7)\n",
    "<center>All signals</center>| <center>Signals plotted by class</center>\n",
    "- | - \n",
    "![alt](KMean_all.png) | ![alt](KMeans_separated.png)\n",
    "\n",
    " <center>All signals - scaled</center>| <center>Signals plotted by class - scaled</center>\n",
    "- | - \n",
    "![alt](KMean_all_scaled.png) | ![alt](KMeans_separated_scaled.png)\n",
    "\n",
    "<center>All signals - normalized</center>| <center>Signals plotted by class - normalized</center>\n",
    "- | - \n",
    "![alt](KMean_all_norm.png) | ![alt](KMeans_separated_norm.png)\n",
    "\n",
    "<center>Pic.6</center> "
   ]
  },
  {
   "cell_type": "markdown",
   "metadata": {},
   "source": [
    "### 2.3 Spectral clustering"
   ]
  },
  {
   "cell_type": "markdown",
   "metadata": {},
   "source": [
    "Try to project K-Means on Laplacian: <a href=\"http://citeseerx.ist.psu.edu/viewdoc/summary?doi=10.1.1.165.9323\">spectral clustering</a>:"
   ]
  },
  {
   "cell_type": "markdown",
   "metadata": {},
   "source": [
    "<center>Spectral clustering</center>|\n",
    "- |\n",
    "![alt](SC_1.png)| \n",
    "![alt](SC_2.png)|\n",
    "![alt](SC_3.png)|\n",
    "<center>Pic.7</center> |"
   ]
  },
  {
   "cell_type": "markdown",
   "metadata": {},
   "source": [
    "Resulting accuracy is about 33%"
   ]
  },
  {
   "cell_type": "markdown",
   "metadata": {},
   "source": [
    "### 2.4 Affine transformation\n",
    "\n",
    "with damping = 0.9\n",
    "\n",
    "<center>Affine transformation</center>|\n",
    "- |\n",
    "![alt](at_1.png)| \n",
    "![alt](at2.png)|\n",
    "![alt](at3.png)|\n",
    "<center>Pic.8</center> |"
   ]
  },
  {
   "cell_type": "markdown",
   "metadata": {},
   "source": [
    "### 2.4 Clusterisation Results and Discussion"
   ]
  },
  {
   "cell_type": "markdown",
   "metadata": {},
   "source": [
    "Presented clusterisation methods do not provide satisfactory results. Means either they do not have needed feature sensivity or there are simply no sistematic elements in presented classes. The next logical step would be to apply geometrical feature analysis to the dataset."
   ]
  },
  {
   "cell_type": "markdown",
   "metadata": {},
   "source": [
    "## 3. Geometrical Feature Search"
   ]
  },
  {
   "cell_type": "markdown",
   "metadata": {},
   "source": [
    "In this analysis the presented dataset will be analysed class-wise to find out if there are some significant feature which could be enough for more sensitive clusterisation or classification."
   ]
  },
  {
   "cell_type": "markdown",
   "metadata": {},
   "source": [
    "### 3.1 Persistence diagrams"
   ]
  },
  {
   "cell_type": "markdown",
   "metadata": {},
   "source": [
    "<a href=\"https://en.wikipedia.org/wiki/Persistent_homology\">Persistence homology</a> is well known as a tool which allows to extract true features rather than artifacts and/or noise. Results of homological analysis is presented on the Pic.9"
   ]
  },
  {
   "cell_type": "markdown",
   "metadata": {},
   "source": [
    "\n",
    "| <center>Pre</center> | <center>W2</center>|\n",
    "| - | - |\n",
    "|![](PD_pre.png)|![](PD_W2.png)|\n",
    "\n",
    "| <center>W6</center> | <center>W8</center> |\n",
    "| - | - |\n",
    "|![alt](PD_W6.png)|![alt](PD_W8.png)|\n",
    "\n",
    "<center>Pic.8</center>"
   ]
  },
  {
   "cell_type": "markdown",
   "metadata": {},
   "source": [
    "Persistent homology shows clear difference between presented samples."
   ]
  },
  {
   "cell_type": "markdown",
   "metadata": {},
   "source": [
    "### 3.2 Persistence entropy\n",
    "\n",
    "To be sure about results obtained with persistence persistence diagrams, will be also applied <a href=\"https://link.springer.com/article/10.1007/s10844-017-0473-4\">persistence entropy</a> (Pic.10)"
   ]
  },
  {
   "cell_type": "markdown",
   "metadata": {},
   "source": [
    "| <center>10% samples </center> | <center>30% of samples</center>|\n",
    "| - | - |\n",
    "|![](pers_entr_01.png)|![](pers_entr_03.png)|\n",
    "\n",
    "| <center>50% samples</center> | <center>all samples</center> |\n",
    "| - | - |\n",
    "|![alt](pers_entr_05.png)|![alt](pers_entr_1.png)|\n",
    "\n",
    "<center>Pic.9</center>"
   ]
  },
  {
   "cell_type": "markdown",
   "metadata": {},
   "source": [
    "This method also shows clear feature difference for all the four classes."
   ]
  },
  {
   "cell_type": "markdown",
   "metadata": {},
   "source": [
    "## Worth to try:\n",
    "### Persistence entropy with preprocessed (projected) signals\n",
    "The reshaped signal 90x91\n",
    "\n",
    "| <center>with outlier</center> | <center>all</center> |\n",
    "| - | - |\n",
    "|![alt](pe_reshaped_outl.png)|![alt](pe_reshaped_all.png)|\n",
    "\n",
    "<center>Pic.10</center>\n",
    "\n",
    "### Fuzzy K-Means\n",
    "Shows the sets are very similar. Well, we know it...\n",
    "\n",
    "| <center>all</center> | <center>separated</center> |\n",
    "| - | - |\n",
    "|![alt](fuzzy_c_means_all.png)|![alt](fuzzy_c_means_sep.png)|\n",
    "\n",
    "<center>Pic.10</center>\n",
    "\n",
    "\n",
    "- Fourier transformation -- convolution theorem\n",
    "- Taken's embedding for each class \n",
    "- Iterative Signature Algorithm\n",
    "\n",
    "- SVD/SVM\n",
    "- Cut out important pieces"
   ]
  },
  {
   "cell_type": "markdown",
   "metadata": {},
   "source": [
    "## 4. Feature Extraction with Convolutional Neural Network\n",
    "\n",
    "The next logical step would be prove if a deep learning method is able to catch the features of deformed signals in presented dataset (and experience says - yes, it can). But a check is needed.\n",
    "As feature extractor was used pretrained ResNet50, thresholded results are presented on the Pic.11:"
   ]
  },
  {
   "cell_type": "markdown",
   "metadata": {},
   "source": [
    "| <center>Pre</center> | <center>W2</center>|\n",
    "| - | - |\n",
    "|![](NN_pre.png)|![](NN_W2.png)|\n",
    "\n",
    "| <center>W6</center> | <center>W8</center> |\n",
    "| - | - |\n",
    "|![alt](NN_W6.png)|![alt](NN_W8.png)|\n",
    "\n",
    "<center>Pic.10</center>"
   ]
  },
  {
   "cell_type": "markdown",
   "metadata": {},
   "source": [
    "NN seems to be sensitive to the features of signal (even with limited input, which in case of the most presented signal - \"Pre\" is only 19). Anyway, a classification worth to try."
   ]
  },
  {
   "cell_type": "markdown",
   "metadata": {},
   "source": [
    "| <center>488</center> | <center>696</center>|<center>868</center>|<center>904</center>|\n",
    "| - | - |- | - |\n",
    "|![](488-488.png)|![](488-696.png)|![](488-868.png)|![](488-904.png)|\n",
    "|![alt](696-488.png)|![alt](696-696.png)| ![](696-868.png)|![](696-904.png)|\n",
    "|![alt](868-488.png)|![alt](868-696.png)| ![](868-868.png)|![](868-904.png)|\n",
    "|![alt](904-488.png)|![alt](904-696.png)| ![](904-868.png)|![](904-904.png)|\n",
    "\n",
    "\n",
    "<center>Pic.11</center>"
   ]
  },
  {
   "cell_type": "markdown",
   "metadata": {},
   "source": [
    "Plots from Pic.12 shows coordinates from the most represented NN outputs. As expected, a NN extracted also the most represented features of signals.\n",
    "### Worth to try:\n",
    "- Clustered anomaly detection for the multidimentional output space."
   ]
  },
  {
   "cell_type": "markdown",
   "metadata": {},
   "source": [
    "## 5. Signal Classification with Neural Net"
   ]
  },
  {
   "cell_type": "markdown",
   "metadata": {},
   "source": [
    "### 5.1 Dataset Augmentation\n",
    "\n",
    "The available dataset has limited number of samples (min 13, max 19) per class.\n",
    "\n",
    "For data augmentation can be applied to the dataset with the following algorithm:\n",
    "0. Find \"Peaks-zones\"\n",
    "1. Define number of transformation N = [0,n];\n",
    "2. Apply the stretch transformation ST = [-20,20] N times to the \"Peaks-zones\"\n",
    "3. Stretch \"zones without signals\" to compensate ST\n"
   ]
  },
  {
   "cell_type": "code",
   "execution_count": null,
   "metadata": {},
   "outputs": [],
   "source": []
  }
 ],
 "metadata": {
  "kernelspec": {
   "display_name": "Python 3",
   "language": "python",
   "name": "python3"
  },
  "language_info": {
   "codemirror_mode": {
    "name": "ipython",
    "version": 3
   },
   "file_extension": ".py",
   "mimetype": "text/x-python",
   "name": "python",
   "nbconvert_exporter": "python",
   "pygments_lexer": "ipython3",
   "version": "3.7.3"
  }
 },
 "nbformat": 4,
 "nbformat_minor": 4
}
